{
  "nbformat": 4,
  "nbformat_minor": 0,
  "metadata": {
    "colab": {
      "name": "pytorch01.ipynb",
      "provenance": [],
      "authorship_tag": "ABX9TyOB/REv1wbB1Yfdrzh2BLLB",
      "include_colab_link": true
    },
    "kernelspec": {
      "name": "python3",
      "display_name": "Python 3"
    },
    "language_info": {
      "name": "python"
    },
    "accelerator": "GPU",
    "gpuClass": "standard"
  },
  "cells": [
    {
      "cell_type": "markdown",
      "metadata": {
        "id": "view-in-github",
        "colab_type": "text"
      },
      "source": [
        "<a href=\"https://colab.research.google.com/github/tomcat472/pytorch/blob/main/pytorch01.ipynb\" target=\"_parent\"><img src=\"https://colab.research.google.com/assets/colab-badge.svg\" alt=\"Open In Colab\"/></a>"
      ]
    },
    {
      "cell_type": "code",
      "execution_count": 1,
      "metadata": {
        "id": "BtzmP8g64kJM"
      },
      "outputs": [],
      "source": [
        "import torch"
      ]
    },
    {
      "cell_type": "code",
      "source": [
        "# arange method ဖြင့် tensor တခုပြုလုပ်ခြင်း\n",
        "X=torch.arange(1,10)\n",
        "X"
      ],
      "metadata": {
        "colab": {
          "base_uri": "https://localhost:8080/"
        },
        "id": "ucrOdkkF60Jv",
        "outputId": "6d3a49d4-efe7-4251-f2f2-1c0c8b2bed98"
      },
      "execution_count": 2,
      "outputs": [
        {
          "output_type": "execute_result",
          "data": {
            "text/plain": [
              "tensor([1, 2, 3, 4, 5, 6, 7, 8, 9])"
            ]
          },
          "metadata": {},
          "execution_count": 2
        }
      ]
    },
    {
      "cell_type": "code",
      "source": [
        "print(X) # 1 dim array \n",
        "print(X.shape) #variable ထဲတွင်ပါဝင်သော element အရေအတွက်အားကြည့်ခြင်း"
      ],
      "metadata": {
        "colab": {
          "base_uri": "https://localhost:8080/"
        },
        "id": "njhaRbz-7IKI",
        "outputId": "884e5ad2-26c9-4fdf-d671-face084224c1"
      },
      "execution_count": 3,
      "outputs": [
        {
          "output_type": "stream",
          "name": "stdout",
          "text": [
            "tensor([1, 2, 3, 4, 5, 6, 7, 8, 9])\n",
            "torch.Size([9])\n"
          ]
        }
      ]
    },
    {
      "cell_type": "code",
      "source": [
        "X.reshape(3,3)\n",
        "# reshape method ဖြင့် 3 row, 3 col ပါသော 2 dim tensor တခုပြုလုပ်ခြင်း"
      ],
      "metadata": {
        "colab": {
          "base_uri": "https://localhost:8080/"
        },
        "id": "CWNWOCgQ7Ku3",
        "outputId": "284eb414-33f2-48fd-a22d-14b4e5cd8d26"
      },
      "execution_count": 4,
      "outputs": [
        {
          "output_type": "execute_result",
          "data": {
            "text/plain": [
              "tensor([[1, 2, 3],\n",
              "        [4, 5, 6],\n",
              "        [7, 8, 9]])"
            ]
          },
          "metadata": {},
          "execution_count": 4
        }
      ]
    },
    {
      "cell_type": "code",
      "source": [
        "# reshaped ပြုလုပ်ထားသော tensor အား variable အသစ်ထဲသို့ assgin ပြုလုပ်ခြင်း\n",
        "X_reshaped=X.reshape(3,3)\n",
        "X_reshaped"
      ],
      "metadata": {
        "colab": {
          "base_uri": "https://localhost:8080/"
        },
        "id": "it3RNKUn7nve",
        "outputId": "9776e892-80ef-4ab2-e7f8-55af9cf5b318"
      },
      "execution_count": 5,
      "outputs": [
        {
          "output_type": "execute_result",
          "data": {
            "text/plain": [
              "tensor([[1, 2, 3],\n",
              "        [4, 5, 6],\n",
              "        [7, 8, 9]])"
            ]
          },
          "metadata": {},
          "execution_count": 5
        }
      ]
    },
    {
      "cell_type": "code",
      "source": [
        "# reshape method သည် numpy ကဲ့သို့ဖြစ်ပြီး ဆခွဲကိန်းခွဲကာ သတ်မှတ်လို့ရသည်။\n",
        "another_reshape=X.reshape(1,3,3)\n",
        "another_reshape\n",
        "# ဒီမှာဆိုရင် 3rows, 3cols ပါသော 3 Dimensional tensor ရမည်ဖြစ်ပါတယ်။"
      ],
      "metadata": {
        "colab": {
          "base_uri": "https://localhost:8080/"
        },
        "id": "LmKpWw-M7szR",
        "outputId": "55c74995-aa92-42de-a2f1-83dbcf5968c2"
      },
      "execution_count": 6,
      "outputs": [
        {
          "output_type": "execute_result",
          "data": {
            "text/plain": [
              "tensor([[[1, 2, 3],\n",
              "         [4, 5, 6],\n",
              "         [7, 8, 9]]])"
            ]
          },
          "metadata": {},
          "execution_count": 6
        }
      ]
    },
    {
      "cell_type": "code",
      "source": [
        "# view method သည် tensor အား ကိုယ်မြင်လိုသည့်ပုံစံဖြင့် ကြည့်ခြင်းဖြစ်သည်။ reshape ကဲ့သို့ဖြစ်သည်။\n",
        "# return a view of tensor of certain shape but keep the same memoray as the original tensor\n",
        "z=X.view(1,9)\n",
        "z"
      ],
      "metadata": {
        "colab": {
          "base_uri": "https://localhost:8080/"
        },
        "id": "lYEAQ1Jn8h9L",
        "outputId": "cc70e9fa-4cbc-436f-806e-c5b0cb73eab2"
      },
      "execution_count": 7,
      "outputs": [
        {
          "output_type": "execute_result",
          "data": {
            "text/plain": [
              "tensor([[1, 2, 3, 4, 5, 6, 7, 8, 9]])"
            ]
          },
          "metadata": {},
          "execution_count": 7
        }
      ]
    },
    {
      "cell_type": "code",
      "source": [
        "print(z.shape)"
      ],
      "metadata": {
        "colab": {
          "base_uri": "https://localhost:8080/"
        },
        "id": "-cdp_06B8yXk",
        "outputId": "f88e77f6-d6fe-4b3f-e049-7e17d6d482ce"
      },
      "execution_count": 8,
      "outputs": [
        {
          "output_type": "stream",
          "name": "stdout",
          "text": [
            "torch.Size([1, 9])\n"
          ]
        }
      ]
    },
    {
      "cell_type": "code",
      "source": [
        "z.view(3,3)"
      ],
      "metadata": {
        "colab": {
          "base_uri": "https://localhost:8080/"
        },
        "id": "jx4YRGSE80cx",
        "outputId": "265f1fd8-697b-4d8d-a218-79382c8fb599"
      },
      "execution_count": 9,
      "outputs": [
        {
          "output_type": "execute_result",
          "data": {
            "text/plain": [
              "tensor([[1, 2, 3],\n",
              "        [4, 5, 6],\n",
              "        [7, 8, 9]])"
            ]
          },
          "metadata": {},
          "execution_count": 9
        }
      ]
    },
    {
      "cell_type": "code",
      "source": [
        "z[0,0]=500\n",
        "z"
      ],
      "metadata": {
        "colab": {
          "base_uri": "https://localhost:8080/"
        },
        "id": "0Fxa87Uv83wb",
        "outputId": "b917ea6e-9468-4a64-bede-3715de89acc3"
      },
      "execution_count": 10,
      "outputs": [
        {
          "output_type": "execute_result",
          "data": {
            "text/plain": [
              "tensor([[500,   2,   3,   4,   5,   6,   7,   8,   9]])"
            ]
          },
          "metadata": {},
          "execution_count": 10
        }
      ]
    },
    {
      "cell_type": "code",
      "source": [
        "print(z)\n",
        "print(X)"
      ],
      "metadata": {
        "colab": {
          "base_uri": "https://localhost:8080/"
        },
        "id": "3ceOCuyv9X-j",
        "outputId": "aeba8e80-e143-4bdc-c418-415ebcbc52d4"
      },
      "execution_count": 11,
      "outputs": [
        {
          "output_type": "stream",
          "name": "stdout",
          "text": [
            "tensor([[500,   2,   3,   4,   5,   6,   7,   8,   9]])\n",
            "tensor([500,   2,   3,   4,   5,   6,   7,   8,   9])\n"
          ]
        }
      ]
    },
    {
      "cell_type": "code",
      "source": [
        "y=X.reshape(1,9)\n",
        "print(y)"
      ],
      "metadata": {
        "colab": {
          "base_uri": "https://localhost:8080/"
        },
        "id": "nTIzJN8c9u_X",
        "outputId": "9a0a010d-ef60-4529-cabf-bc66d074adcc"
      },
      "execution_count": 12,
      "outputs": [
        {
          "output_type": "stream",
          "name": "stdout",
          "text": [
            "tensor([[500,   2,   3,   4,   5,   6,   7,   8,   9]])\n"
          ]
        }
      ]
    },
    {
      "cell_type": "code",
      "source": [
        "y[0,2]=100\n",
        "print(y)"
      ],
      "metadata": {
        "colab": {
          "base_uri": "https://localhost:8080/"
        },
        "id": "lwIDbFSs9-l0",
        "outputId": "b92ed5d5-e21a-4d5c-c356-63a384e52508"
      },
      "execution_count": 13,
      "outputs": [
        {
          "output_type": "stream",
          "name": "stdout",
          "text": [
            "tensor([[500,   2, 100,   4,   5,   6,   7,   8,   9]])\n"
          ]
        }
      ]
    },
    {
      "cell_type": "code",
      "source": [
        "print(X)"
      ],
      "metadata": {
        "colab": {
          "base_uri": "https://localhost:8080/"
        },
        "id": "gJlCnOEV-UYz",
        "outputId": "29f0052f-1e4d-4e08-efe3-555f1905caf3"
      },
      "execution_count": 14,
      "outputs": [
        {
          "output_type": "stream",
          "name": "stdout",
          "text": [
            "tensor([500,   2, 100,   4,   5,   6,   7,   8,   9])\n"
          ]
        }
      ]
    },
    {
      "cell_type": "code",
      "source": [
        "z==y"
      ],
      "metadata": {
        "colab": {
          "base_uri": "https://localhost:8080/"
        },
        "id": "BQciwjJR-c2R",
        "outputId": "803ddc69-8eaf-42ca-8f4c-7edfa00fa641"
      },
      "execution_count": 15,
      "outputs": [
        {
          "output_type": "execute_result",
          "data": {
            "text/plain": [
              "tensor([[True, True, True, True, True, True, True, True, True]])"
            ]
          },
          "metadata": {},
          "execution_count": 15
        }
      ]
    },
    {
      "cell_type": "code",
      "source": [
        "# stack\n",
        "# combine multiple tensors on top of each other (vstack) or side by side (hstack)\n",
        "x_stacked=torch.stack([X,X,X,X],dim=0)\n",
        "x_stacked"
      ],
      "metadata": {
        "colab": {
          "base_uri": "https://localhost:8080/"
        },
        "id": "XA2Bkyt__Hfr",
        "outputId": "4e60bd23-8ab5-44f9-d42b-410ea047cb65"
      },
      "execution_count": 16,
      "outputs": [
        {
          "output_type": "execute_result",
          "data": {
            "text/plain": [
              "tensor([[500,   2, 100,   4,   5,   6,   7,   8,   9],\n",
              "        [500,   2, 100,   4,   5,   6,   7,   8,   9],\n",
              "        [500,   2, 100,   4,   5,   6,   7,   8,   9],\n",
              "        [500,   2, 100,   4,   5,   6,   7,   8,   9]])"
            ]
          },
          "metadata": {},
          "execution_count": 16
        }
      ]
    },
    {
      "cell_type": "code",
      "source": [
        "x_stacked=torch.stack([X,X,X,X],dim=1)\n",
        "x_stacked"
      ],
      "metadata": {
        "colab": {
          "base_uri": "https://localhost:8080/"
        },
        "id": "p1cxp2xu_fHc",
        "outputId": "e9044e8c-20be-4594-9755-0ca20dc97e9a"
      },
      "execution_count": 17,
      "outputs": [
        {
          "output_type": "execute_result",
          "data": {
            "text/plain": [
              "tensor([[500, 500, 500, 500],\n",
              "        [  2,   2,   2,   2],\n",
              "        [100, 100, 100, 100],\n",
              "        [  4,   4,   4,   4],\n",
              "        [  5,   5,   5,   5],\n",
              "        [  6,   6,   6,   6],\n",
              "        [  7,   7,   7,   7],\n",
              "        [  8,   8,   8,   8],\n",
              "        [  9,   9,   9,   9]])"
            ]
          },
          "metadata": {},
          "execution_count": 17
        }
      ]
    },
    {
      "cell_type": "code",
      "source": [
        "# slecting data from tensors\n",
        "x=torch.arange(1,10).reshape(1,3,3)\n",
        "x"
      ],
      "metadata": {
        "colab": {
          "base_uri": "https://localhost:8080/"
        },
        "id": "W3dO_pZP_iiW",
        "outputId": "d70b3c25-6924-4d8a-ae7b-df6d8354e1c7"
      },
      "execution_count": 18,
      "outputs": [
        {
          "output_type": "execute_result",
          "data": {
            "text/plain": [
              "tensor([[[1, 2, 3],\n",
              "         [4, 5, 6],\n",
              "         [7, 8, 9]]])"
            ]
          },
          "metadata": {},
          "execution_count": 18
        }
      ]
    },
    {
      "cell_type": "code",
      "source": [
        "print(x[0]) #print 1st dim\n",
        "print(x[0][0],x[0,0]) #dim=1\n",
        "print(x[0][0][0])#last dim"
      ],
      "metadata": {
        "colab": {
          "base_uri": "https://localhost:8080/"
        },
        "id": "guHPyxqc_9Mc",
        "outputId": "9e8b0376-38ad-4cba-86aa-8a7cb19ce70c"
      },
      "execution_count": 19,
      "outputs": [
        {
          "output_type": "stream",
          "name": "stdout",
          "text": [
            "tensor([[1, 2, 3],\n",
            "        [4, 5, 6],\n",
            "        [7, 8, 9]])\n",
            "tensor([1, 2, 3]) tensor([1, 2, 3])\n",
            "tensor(1)\n"
          ]
        }
      ]
    },
    {
      "cell_type": "code",
      "source": [
        "x[:,0]"
      ],
      "metadata": {
        "colab": {
          "base_uri": "https://localhost:8080/"
        },
        "id": "w5P3-KZDATQD",
        "outputId": "e6daba07-0ab6-41c6-f33e-ed1b31a08b22"
      },
      "execution_count": 20,
      "outputs": [
        {
          "output_type": "execute_result",
          "data": {
            "text/plain": [
              "tensor([[1, 2, 3]])"
            ]
          },
          "metadata": {},
          "execution_count": 20
        }
      ]
    },
    {
      "cell_type": "code",
      "source": [
        "x[:,:,1]"
      ],
      "metadata": {
        "colab": {
          "base_uri": "https://localhost:8080/"
        },
        "id": "juIc661XAXiq",
        "outputId": "6e69af02-46d1-4849-e641-71cdac55cfad"
      },
      "execution_count": 21,
      "outputs": [
        {
          "output_type": "execute_result",
          "data": {
            "text/plain": [
              "tensor([[2, 5, 8]])"
            ]
          },
          "metadata": {},
          "execution_count": 21
        }
      ]
    },
    {
      "cell_type": "code",
      "source": [
        "print(x[0,0,:])\n",
        "print(x[0][2][2])\n",
        "print(x[:,:,2])"
      ],
      "metadata": {
        "colab": {
          "base_uri": "https://localhost:8080/"
        },
        "id": "DAyMiZXWAbdf",
        "outputId": "f3a8da63-a664-4823-fa61-dc66c6d59fcf"
      },
      "execution_count": 22,
      "outputs": [
        {
          "output_type": "stream",
          "name": "stdout",
          "text": [
            "tensor([1, 2, 3])\n",
            "tensor(9)\n",
            "tensor([[3, 6, 9]])\n"
          ]
        }
      ]
    },
    {
      "cell_type": "code",
      "source": [
        "# numpy to tensor\n",
        "import numpy as np\n",
        "arr=np.arange(1.0,8.0)\n",
        "tensor=torch.from_numpy(arr)\n",
        "print(arr,tensor)\n",
        "print(arr.shape,tensor.shape)\n",
        "print(arr.dtype,torch.dtype)\n",
        "# numpy ရဲ့ default dtype က float64\n",
        "# pytorch ရဲ့ dafault dtype က float32"
      ],
      "metadata": {
        "colab": {
          "base_uri": "https://localhost:8080/"
        },
        "id": "Pdvn0rykAm6i",
        "outputId": "a046add9-b25b-403d-c6d3-a795233b6145"
      },
      "execution_count": 23,
      "outputs": [
        {
          "output_type": "stream",
          "name": "stdout",
          "text": [
            "[1. 2. 3. 4. 5. 6. 7.] tensor([1., 2., 3., 4., 5., 6., 7.], dtype=torch.float64)\n",
            "(7,) torch.Size([7])\n",
            "float64 <class 'torch.dtype'>\n"
          ]
        }
      ]
    },
    {
      "cell_type": "code",
      "source": [
        "arr=arr+1\n",
        "print(arr)\n",
        "print(tensor)"
      ],
      "metadata": {
        "colab": {
          "base_uri": "https://localhost:8080/"
        },
        "id": "p1k1oaY9EaBa",
        "outputId": "83b1b9e6-231c-489c-f9a0-bf9d8a143dc0"
      },
      "execution_count": 24,
      "outputs": [
        {
          "output_type": "stream",
          "name": "stdout",
          "text": [
            "[2. 3. 4. 5. 6. 7. 8.]\n",
            "tensor([1., 2., 3., 4., 5., 6., 7.], dtype=torch.float64)\n"
          ]
        }
      ]
    },
    {
      "cell_type": "code",
      "source": [
        "# Tensor to numpy\n",
        "tensor_new=torch.ones(7)\n",
        "tensor_new"
      ],
      "metadata": {
        "colab": {
          "base_uri": "https://localhost:8080/"
        },
        "id": "GCRoMTWcFLh1",
        "outputId": "955bc297-41e0-4d99-ccba-9d409e205efa"
      },
      "execution_count": 25,
      "outputs": [
        {
          "output_type": "execute_result",
          "data": {
            "text/plain": [
              "tensor([1., 1., 1., 1., 1., 1., 1.])"
            ]
          },
          "metadata": {},
          "execution_count": 25
        }
      ]
    },
    {
      "cell_type": "code",
      "source": [
        "numpy_tensor=tensor_new.numpy()\n",
        "numpy_tensor"
      ],
      "metadata": {
        "colab": {
          "base_uri": "https://localhost:8080/"
        },
        "id": "WHMlZX_CFYJl",
        "outputId": "92bf4c8b-2f4f-4068-e9f2-d778a54b4b7b"
      },
      "execution_count": 26,
      "outputs": [
        {
          "output_type": "execute_result",
          "data": {
            "text/plain": [
              "array([1., 1., 1., 1., 1., 1., 1.], dtype=float32)"
            ]
          },
          "metadata": {},
          "execution_count": 26
        }
      ]
    },
    {
      "cell_type": "code",
      "source": [
        "tensor_new=tensor_new+1\n",
        "print(tensor_new)\n",
        "print(numpy_tensor)"
      ],
      "metadata": {
        "colab": {
          "base_uri": "https://localhost:8080/"
        },
        "id": "J9lRjQyxFfJi",
        "outputId": "e06b6b98-d6a7-49d3-b8c2-1e8f8e610010"
      },
      "execution_count": 27,
      "outputs": [
        {
          "output_type": "stream",
          "name": "stdout",
          "text": [
            "tensor([2., 2., 2., 2., 2., 2., 2.])\n",
            "[1. 1. 1. 1. 1. 1. 1.]\n"
          ]
        }
      ]
    },
    {
      "cell_type": "code",
      "source": [
        "# reprodubility\n",
        "# random seed ==> to reduce the randomness in neural networls and pytorch"
      ],
      "metadata": {
        "id": "qN8a5N17FlLt"
      },
      "execution_count": 28,
      "outputs": []
    },
    {
      "cell_type": "code",
      "source": [
        "A=torch.rand(3,4)\n",
        "B=torch.rand(3,4)\n",
        "print(A)\n",
        "print(B)\n",
        "print(A==B)"
      ],
      "metadata": {
        "colab": {
          "base_uri": "https://localhost:8080/"
        },
        "id": "m9cUAog1F0Qz",
        "outputId": "cb9b6e1f-5ed7-4f29-b8c5-fab4f53d6e47"
      },
      "execution_count": 29,
      "outputs": [
        {
          "output_type": "stream",
          "name": "stdout",
          "text": [
            "tensor([[0.2599, 0.9345, 0.8779, 0.8414],\n",
            "        [0.0188, 0.8550, 0.8771, 0.2146],\n",
            "        [0.2782, 0.8211, 0.7027, 0.1842]])\n",
            "tensor([[0.9583, 0.2598, 0.4294, 0.0411],\n",
            "        [0.0302, 0.6134, 0.5465, 0.0166],\n",
            "        [0.9364, 0.3329, 0.8071, 0.4587]])\n",
            "tensor([[False, False, False, False],\n",
            "        [False, False, False, False],\n",
            "        [False, False, False, False]])\n"
          ]
        }
      ]
    },
    {
      "cell_type": "code",
      "source": [
        "# set random seed\n",
        "seed=42\n",
        "torch.manual_seed(seed)\n",
        "C=torch.rand(3,4)\n",
        "D=torch.rand(3,4)\n",
        "print(C)\n",
        "print(D)\n",
        "print(C==D)"
      ],
      "metadata": {
        "colab": {
          "base_uri": "https://localhost:8080/"
        },
        "id": "8rzrZtWBF7pT",
        "outputId": "45a13ba5-3556-4bf6-a839-66d75e12fa18"
      },
      "execution_count": 30,
      "outputs": [
        {
          "output_type": "stream",
          "name": "stdout",
          "text": [
            "tensor([[0.8823, 0.9150, 0.3829, 0.9593],\n",
            "        [0.3904, 0.6009, 0.2566, 0.7936],\n",
            "        [0.9408, 0.1332, 0.9346, 0.5936]])\n",
            "tensor([[0.8694, 0.5677, 0.7411, 0.4294],\n",
            "        [0.8854, 0.5739, 0.2666, 0.6274],\n",
            "        [0.2696, 0.4414, 0.2969, 0.8317]])\n",
            "tensor([[False, False, False, False],\n",
            "        [False, False, False, False],\n",
            "        [False, False, False, False]])\n"
          ]
        }
      ]
    },
    {
      "cell_type": "code",
      "source": [
        "seed=42\n",
        "torch.manual_seed(seed)\n",
        "E=torch.rand(3,4)\n",
        "\n",
        "torch.manual_seed(seed)\n",
        "F=torch.rand(3,4)\n",
        "\n",
        "print(E)\n",
        "print(F)\n",
        "print(E==F)"
      ],
      "metadata": {
        "colab": {
          "base_uri": "https://localhost:8080/"
        },
        "id": "mTmSfvtVGNc9",
        "outputId": "2bed54f9-9236-4cba-bc09-37157ae54957"
      },
      "execution_count": 31,
      "outputs": [
        {
          "output_type": "stream",
          "name": "stdout",
          "text": [
            "tensor([[0.8823, 0.9150, 0.3829, 0.9593],\n",
            "        [0.3904, 0.6009, 0.2566, 0.7936],\n",
            "        [0.9408, 0.1332, 0.9346, 0.5936]])\n",
            "tensor([[0.8823, 0.9150, 0.3829, 0.9593],\n",
            "        [0.3904, 0.6009, 0.2566, 0.7936],\n",
            "        [0.9408, 0.1332, 0.9346, 0.5936]])\n",
            "tensor([[True, True, True, True],\n",
            "        [True, True, True, True],\n",
            "        [True, True, True, True]])\n"
          ]
        }
      ]
    }
  ]
}