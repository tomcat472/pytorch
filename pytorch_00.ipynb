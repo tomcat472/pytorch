{
  "nbformat": 4,
  "nbformat_minor": 0,
  "metadata": {
    "colab": {
      "name": "pytorch_00.ipynb",
      "provenance": [],
      "authorship_tag": "ABX9TyNSFxEv+72+fuAlnPtzxLWH",
      "include_colab_link": true
    },
    "kernelspec": {
      "name": "python3",
      "display_name": "Python 3"
    },
    "language_info": {
      "name": "python"
    },
    "accelerator": "GPU",
    "gpuClass": "standard"
  },
  "cells": [
    {
      "cell_type": "markdown",
      "metadata": {
        "id": "view-in-github",
        "colab_type": "text"
      },
      "source": [
        "<a href=\"https://colab.research.google.com/github/tomcat472/pytorch/blob/main/pytorch_00.ipynb\" target=\"_parent\"><img src=\"https://colab.research.google.com/assets/colab-badge.svg\" alt=\"Open In Colab\"/></a>"
      ]
    },
    {
      "cell_type": "code",
      "execution_count": 1,
      "metadata": {
        "id": "VJGw9EIH36Ut"
      },
      "outputs": [],
      "source": [
        "# importing pytorch\n",
        "import torch\n",
        "# pytorch က numpy နဲ့သဘောသဘာဝချင်းဆင်တူပါတယ်။"
      ]
    },
    {
      "cell_type": "code",
      "source": [
        "# checking pytorch version\n",
        "torch.__version__"
      ],
      "metadata": {
        "colab": {
          "base_uri": "https://localhost:8080/",
          "height": 36
        },
        "id": "3ykYRRYp4ChG",
        "outputId": "201fdecd-9f94-4b90-9446-b46c55e5172b"
      },
      "execution_count": 2,
      "outputs": [
        {
          "output_type": "execute_result",
          "data": {
            "text/plain": [
              "'1.12.1+cu113'"
            ],
            "application/vnd.google.colaboratory.intrinsic+json": {
              "type": "string"
            }
          },
          "metadata": {},
          "execution_count": 2
        }
      ]
    },
    {
      "cell_type": "code",
      "source": [
        "# scalar\n",
        "# single number ဖြင့်ဖော်ပြတယ်။\n",
        "# zero dimension ဖြစ်တယ်။\n",
        "scalar=torch.tensor(7)\n",
        "print(scalar)"
      ],
      "metadata": {
        "colab": {
          "base_uri": "https://localhost:8080/"
        },
        "id": "PfQtmuUK4SuE",
        "outputId": "73360283-340e-4029-d6df-2bea77447f1c"
      },
      "execution_count": 3,
      "outputs": [
        {
          "output_type": "stream",
          "name": "stdout",
          "text": [
            "tensor(7)\n"
          ]
        }
      ]
    },
    {
      "cell_type": "code",
      "source": [
        "# dimension စစ်ခြင်း\n",
        "scalar.ndim"
      ],
      "metadata": {
        "colab": {
          "base_uri": "https://localhost:8080/"
        },
        "id": "A6QhSTaJ4rR7",
        "outputId": "cd1a60f3-1bf4-4b33-c447-f89f271785ae"
      },
      "execution_count": 4,
      "outputs": [
        {
          "output_type": "execute_result",
          "data": {
            "text/plain": [
              "0"
            ]
          },
          "metadata": {},
          "execution_count": 4
        }
      ]
    },
    {
      "cell_type": "code",
      "source": [
        "# pytorch site ထဲက tensor ကိုဖတ်ခြင်း\n",
        "scalar.item()"
      ],
      "metadata": {
        "colab": {
          "base_uri": "https://localhost:8080/"
        },
        "id": "mKcemkoq44h5",
        "outputId": "1568f6ed-90b6-4505-8289-b9f7f5ea1ef8"
      },
      "execution_count": 5,
      "outputs": [
        {
          "output_type": "execute_result",
          "data": {
            "text/plain": [
              "7"
            ]
          },
          "metadata": {},
          "execution_count": 5
        }
      ]
    },
    {
      "cell_type": "code",
      "source": [
        "# vector တခုတည်ဆောက်ခြင်း\n",
        "# vector ဆိုတာ maganitude နဲ့ direction ပါတယ်။\n",
        "# ဘယ်လို direction လဲဆိုတော့ အပူချိန်/လေတိုက်နှုန်းလို သတ်မှတ်ထားတဲ့ direction အတိုင်းသွားရင် positive\n",
        "# ဆန့်ကျင်ဘက် direction အတိုင်းသွားရင် negative ရတဲ့သဘောမျိုးကို ဆိုလိုတာဖြစ်တယ်။\n",
        "vector=torch.tensor([2,3])\n",
        "vector"
      ],
      "metadata": {
        "colab": {
          "base_uri": "https://localhost:8080/"
        },
        "id": "0Ia8qTcO5HlS",
        "outputId": "b408611b-03dc-4f45-89cf-f1b8af8caba9"
      },
      "execution_count": 6,
      "outputs": [
        {
          "output_type": "execute_result",
          "data": {
            "text/plain": [
              "tensor([2, 3])"
            ]
          },
          "metadata": {},
          "execution_count": 6
        }
      ]
    },
    {
      "cell_type": "code",
      "source": [
        "vector.ndim"
      ],
      "metadata": {
        "colab": {
          "base_uri": "https://localhost:8080/"
        },
        "id": "FMkW3egg6bsm",
        "outputId": "93000e0e-1a84-4e2d-f5fa-da266e213b8d"
      },
      "execution_count": 7,
      "outputs": [
        {
          "output_type": "execute_result",
          "data": {
            "text/plain": [
              "1"
            ]
          },
          "metadata": {},
          "execution_count": 7
        }
      ]
    },
    {
      "cell_type": "code",
      "source": [
        "# matrix တည်ဆောက်ခြင်း\n",
        "# matrix ဆိုတာ ၁၀ တန်းသင်္ချာထဲကအတိုင်းပဲ row,col အတွဲဖြစ်တယ်။ tabular ပုံစံကို ပြေးမြင်ရင်ရတယ်။\n",
        "matrix=torch.tensor([[1,2],[3,4]])\n",
        "matrix"
      ],
      "metadata": {
        "colab": {
          "base_uri": "https://localhost:8080/"
        },
        "id": "22TTL_ac6eEC",
        "outputId": "da5bdccc-a0b7-4c8e-f5b0-d16bedaafe8d"
      },
      "execution_count": 8,
      "outputs": [
        {
          "output_type": "execute_result",
          "data": {
            "text/plain": [
              "tensor([[1, 2],\n",
              "        [3, 4]])"
            ]
          },
          "metadata": {},
          "execution_count": 8
        }
      ]
    },
    {
      "cell_type": "code",
      "source": [
        "matrix.ndim"
      ],
      "metadata": {
        "colab": {
          "base_uri": "https://localhost:8080/"
        },
        "id": "mBfucKl37swC",
        "outputId": "5f7cb819-0a0c-4fda-9d3d-132189171bd8"
      },
      "execution_count": 9,
      "outputs": [
        {
          "output_type": "execute_result",
          "data": {
            "text/plain": [
              "2"
            ]
          },
          "metadata": {},
          "execution_count": 9
        }
      ]
    },
    {
      "cell_type": "code",
      "source": [
        "matrix.shape"
      ],
      "metadata": {
        "colab": {
          "base_uri": "https://localhost:8080/"
        },
        "id": "BHfScbub7t_b",
        "outputId": "47c5097d-8589-4940-c43a-fd5d193ad7aa"
      },
      "execution_count": 10,
      "outputs": [
        {
          "output_type": "execute_result",
          "data": {
            "text/plain": [
              "torch.Size([2, 2])"
            ]
          },
          "metadata": {},
          "execution_count": 10
        }
      ]
    },
    {
      "cell_type": "code",
      "source": [
        "# tensor တခုတည်ဆောက်ခြင်း\n",
        "# tensor ဆိုတာ nth dimensional matrix ဖြစ်ပါတယ်။\n",
        "# 3 dimension ကနေစပြီး tensor လို့ခေါ်ပါတယ်။\n",
        "tensor=torch.tensor([[[1,2,3],[4,5,6]]])\n",
        "tensor"
      ],
      "metadata": {
        "colab": {
          "base_uri": "https://localhost:8080/"
        },
        "id": "I4yyjNd17wb-",
        "outputId": "4c792b19-cc41-4432-f775-de447df612ce"
      },
      "execution_count": 11,
      "outputs": [
        {
          "output_type": "execute_result",
          "data": {
            "text/plain": [
              "tensor([[[1, 2, 3],\n",
              "         [4, 5, 6]]])"
            ]
          },
          "metadata": {},
          "execution_count": 11
        }
      ]
    },
    {
      "cell_type": "code",
      "source": [
        "print(tensor.ndim)\n",
        "print(tensor.shape)"
      ],
      "metadata": {
        "colab": {
          "base_uri": "https://localhost:8080/"
        },
        "id": "6hU0eSP08HoY",
        "outputId": "a019a942-0f2e-4ffb-ff51-19e48dad8468"
      },
      "execution_count": 12,
      "outputs": [
        {
          "output_type": "stream",
          "name": "stdout",
          "text": [
            "3\n",
            "torch.Size([1, 2, 3])\n"
          ]
        }
      ]
    },
    {
      "cell_type": "code",
      "source": [
        "# Slicing and indexing"
      ],
      "metadata": {
        "id": "N_heVzPX95yf"
      },
      "execution_count": 13,
      "outputs": []
    },
    {
      "cell_type": "code",
      "source": [
        "matrix"
      ],
      "metadata": {
        "colab": {
          "base_uri": "https://localhost:8080/"
        },
        "id": "EM6I8mkY-GlQ",
        "outputId": "9cf25230-2627-4d3b-bc13-9de607878ceb"
      },
      "execution_count": 14,
      "outputs": [
        {
          "output_type": "execute_result",
          "data": {
            "text/plain": [
              "tensor([[1, 2],\n",
              "        [3, 4]])"
            ]
          },
          "metadata": {},
          "execution_count": 14
        }
      ]
    },
    {
      "cell_type": "code",
      "source": [
        "matrix[0]"
      ],
      "metadata": {
        "colab": {
          "base_uri": "https://localhost:8080/"
        },
        "id": "dslN6iZg-H7c",
        "outputId": "420dee2e-12af-413c-b016-84bcf31d39c1"
      },
      "execution_count": 15,
      "outputs": [
        {
          "output_type": "execute_result",
          "data": {
            "text/plain": [
              "tensor([1, 2])"
            ]
          },
          "metadata": {},
          "execution_count": 15
        }
      ]
    },
    {
      "cell_type": "code",
      "source": [
        "matrix[0,1]"
      ],
      "metadata": {
        "colab": {
          "base_uri": "https://localhost:8080/"
        },
        "id": "lwjnPF7J-Kza",
        "outputId": "2afc1b74-2b6d-4e3e-8886-e232ee868ba5"
      },
      "execution_count": 16,
      "outputs": [
        {
          "output_type": "execute_result",
          "data": {
            "text/plain": [
              "tensor(2)"
            ]
          },
          "metadata": {},
          "execution_count": 16
        }
      ]
    },
    {
      "cell_type": "code",
      "source": [
        "# random tensor\n",
        "rand_tensor=torch.rand(3,4)\n",
        "rand_tensor"
      ],
      "metadata": {
        "colab": {
          "base_uri": "https://localhost:8080/"
        },
        "id": "ss1bnI6uEAhI",
        "outputId": "a02e87ae-c86d-4f47-910e-cddc12aa6759"
      },
      "execution_count": 17,
      "outputs": [
        {
          "output_type": "execute_result",
          "data": {
            "text/plain": [
              "tensor([[0.7112, 0.7934, 0.9579, 0.1765],\n",
              "        [0.4005, 0.1657, 0.2454, 0.1486],\n",
              "        [0.4817, 0.0215, 0.5104, 0.5847]])"
            ]
          },
          "metadata": {},
          "execution_count": 17
        }
      ]
    },
    {
      "cell_type": "code",
      "source": [
        "print(rand_tensor.ndim,rand_tensor.shape)"
      ],
      "metadata": {
        "colab": {
          "base_uri": "https://localhost:8080/"
        },
        "id": "nY-UGxu6EFdc",
        "outputId": "b4b4b860-c2b6-4528-a6e6-eeb3ce50d356"
      },
      "execution_count": 18,
      "outputs": [
        {
          "output_type": "stream",
          "name": "stdout",
          "text": [
            "2 torch.Size([3, 4])\n"
          ]
        }
      ]
    },
    {
      "cell_type": "code",
      "source": [
        "# zeros tensor and ones tensor\n",
        "zeros=torch.zeros(3,4)\n",
        "ones=torch.ones(3,4)\n",
        "print(zeros)\n",
        "print(ones)"
      ],
      "metadata": {
        "colab": {
          "base_uri": "https://localhost:8080/"
        },
        "id": "KXLAP5iwES8y",
        "outputId": "381402bb-bfcd-44ae-d528-d741f6bca305"
      },
      "execution_count": 19,
      "outputs": [
        {
          "output_type": "stream",
          "name": "stdout",
          "text": [
            "tensor([[0., 0., 0., 0.],\n",
            "        [0., 0., 0., 0.],\n",
            "        [0., 0., 0., 0.]])\n",
            "tensor([[1., 1., 1., 1.],\n",
            "        [1., 1., 1., 1.],\n",
            "        [1., 1., 1., 1.]])\n"
          ]
        }
      ]
    },
    {
      "cell_type": "code",
      "source": [
        "print(zeros.dtype,'/',ones.dtype)"
      ],
      "metadata": {
        "colab": {
          "base_uri": "https://localhost:8080/"
        },
        "id": "DU6yeiT5EmT_",
        "outputId": "f8e5da9c-eb3a-44ef-f273-1bac04408f9b"
      },
      "execution_count": 20,
      "outputs": [
        {
          "output_type": "stream",
          "name": "stdout",
          "text": [
            "torch.float32 / torch.float32\n"
          ]
        }
      ]
    },
    {
      "cell_type": "code",
      "source": [
        "# tensor range\n",
        "range=torch.arange(0,100,10)\n",
        "range\n",
        "# python range နဲ့တူ၊ numpy arange fungtion နဲ့တူ"
      ],
      "metadata": {
        "colab": {
          "base_uri": "https://localhost:8080/"
        },
        "id": "hcDQiz3UEsPI",
        "outputId": "f1c9f12e-2ed9-4f4b-8d03-a6c59f7b54e4"
      },
      "execution_count": 21,
      "outputs": [
        {
          "output_type": "execute_result",
          "data": {
            "text/plain": [
              "tensor([ 0, 10, 20, 30, 40, 50, 60, 70, 80, 90])"
            ]
          },
          "metadata": {},
          "execution_count": 21
        }
      ]
    },
    {
      "cell_type": "code",
      "source": [
        "# ကိုယ်ဖန်တီးထားတဲ့ဟာတွေထဲကို zeros နဲ့ ones များထည့်ခြင်း\n",
        "tensor_zeros=torch.zeros_like(range)\n",
        "tensor_zeros"
      ],
      "metadata": {
        "colab": {
          "base_uri": "https://localhost:8080/"
        },
        "id": "k4gXIt2tE3Ov",
        "outputId": "557951e4-e647-4061-c8d2-d9cece8ee1c6"
      },
      "execution_count": 22,
      "outputs": [
        {
          "output_type": "execute_result",
          "data": {
            "text/plain": [
              "tensor([0, 0, 0, 0, 0, 0, 0, 0, 0, 0])"
            ]
          },
          "metadata": {},
          "execution_count": 22
        }
      ]
    },
    {
      "cell_type": "code",
      "source": [
        "tensor_ones=torch.ones_like(range)\n",
        "tensor_ones"
      ],
      "metadata": {
        "colab": {
          "base_uri": "https://localhost:8080/"
        },
        "id": "Dh5r1bUGGAQo",
        "outputId": "da25a742-cbd5-42a4-d745-21a8c93dcb51"
      },
      "execution_count": 23,
      "outputs": [
        {
          "output_type": "execute_result",
          "data": {
            "text/plain": [
              "tensor([1, 1, 1, 1, 1, 1, 1, 1, 1, 1])"
            ]
          },
          "metadata": {},
          "execution_count": 23
        }
      ]
    },
    {
      "cell_type": "code",
      "source": [
        "# Tensor မှာဖြစ်လေ့ဖြစ်ထရှိတဲ့ error က data type error, shape error နဲ့ device error ဖြစ်ပါတယ်။"
      ],
      "metadata": {
        "id": "CN0Qz_igGHcF"
      },
      "execution_count": 24,
      "outputs": []
    },
    {
      "cell_type": "code",
      "source": [
        "# datatype စစ်ခြင်း\n",
        "tensor_ones.dtype"
      ],
      "metadata": {
        "colab": {
          "base_uri": "https://localhost:8080/"
        },
        "id": "11kKhB1rGUYA",
        "outputId": "7aafad36-d1b7-4979-9423-a58d6cd5d54f"
      },
      "execution_count": 25,
      "outputs": [
        {
          "output_type": "execute_result",
          "data": {
            "text/plain": [
              "torch.int64"
            ]
          },
          "metadata": {},
          "execution_count": 25
        }
      ]
    },
    {
      "cell_type": "code",
      "source": [
        "# datatype ပြောင်းခြင်း\n",
        "tensor_ones.type(torch.float32)"
      ],
      "metadata": {
        "colab": {
          "base_uri": "https://localhost:8080/"
        },
        "id": "9tYFQv7wGaJK",
        "outputId": "b583a968-6868-4dc6-9b8a-ef24cace8c27"
      },
      "execution_count": 26,
      "outputs": [
        {
          "output_type": "execute_result",
          "data": {
            "text/plain": [
              "tensor([1., 1., 1., 1., 1., 1., 1., 1., 1., 1.])"
            ]
          },
          "metadata": {},
          "execution_count": 26
        }
      ]
    },
    {
      "cell_type": "code",
      "source": [
        "# manipulating tensors\n",
        "A=torch.tensor([32,2])\n",
        "A"
      ],
      "metadata": {
        "colab": {
          "base_uri": "https://localhost:8080/"
        },
        "id": "NsIzmS4JGi0Y",
        "outputId": "40e7f266-222d-4d3d-d4a7-96e49e38ae59"
      },
      "execution_count": 27,
      "outputs": [
        {
          "output_type": "execute_result",
          "data": {
            "text/plain": [
              "tensor([32,  2])"
            ]
          },
          "metadata": {},
          "execution_count": 27
        }
      ]
    },
    {
      "cell_type": "code",
      "source": [
        "# addition\n",
        "print(A+100)\n",
        "print(torch.add(A,100))\n",
        "\n",
        "# subtraction\n",
        "print(A-100)\n",
        "print(torch.subtract(A,100))\n",
        "\n",
        "# multiplication\n",
        "print(A*10)\n",
        "print(torch.mul(A,10))"
      ],
      "metadata": {
        "colab": {
          "base_uri": "https://localhost:8080/"
        },
        "id": "Gea-IMGPHf76",
        "outputId": "0819bdda-0f96-4df0-af90-3a0512d11202"
      },
      "execution_count": 28,
      "outputs": [
        {
          "output_type": "stream",
          "name": "stdout",
          "text": [
            "tensor([132, 102])\n",
            "tensor([132, 102])\n",
            "tensor([-68, -98])\n",
            "tensor([-68, -98])\n",
            "tensor([320,  20])\n",
            "tensor([320,  20])\n"
          ]
        }
      ]
    },
    {
      "cell_type": "code",
      "source": [
        "# matrix multiplication (dot product)\n",
        "B=torch.tensor([[1,2],[3,4]])\n",
        "B"
      ],
      "metadata": {
        "colab": {
          "base_uri": "https://localhost:8080/"
        },
        "id": "wO3CMw9QHv4f",
        "outputId": "f4673bbc-94a9-4451-cda9-1f923878b288"
      },
      "execution_count": 29,
      "outputs": [
        {
          "output_type": "execute_result",
          "data": {
            "text/plain": [
              "tensor([[1, 2],\n",
              "        [3, 4]])"
            ]
          },
          "metadata": {},
          "execution_count": 29
        }
      ]
    },
    {
      "cell_type": "code",
      "source": [
        "# element wise multiplication\n",
        "B * B"
      ],
      "metadata": {
        "colab": {
          "base_uri": "https://localhost:8080/"
        },
        "id": "XJXpAt_rI5N6",
        "outputId": "014d4eff-2c9b-4f13-963f-e725d09ebb64"
      },
      "execution_count": 30,
      "outputs": [
        {
          "output_type": "execute_result",
          "data": {
            "text/plain": [
              "tensor([[ 1,  4],\n",
              "        [ 9, 16]])"
            ]
          },
          "metadata": {},
          "execution_count": 30
        }
      ]
    },
    {
      "cell_type": "code",
      "source": [
        "# matric multopliaction\n",
        "torch.matmul(B,B)"
      ],
      "metadata": {
        "colab": {
          "base_uri": "https://localhost:8080/"
        },
        "id": "IDkOUhH9I7kZ",
        "outputId": "0ea409c3-40b6-4ab1-8d3d-f33fe80ca52b"
      },
      "execution_count": 31,
      "outputs": [
        {
          "output_type": "execute_result",
          "data": {
            "text/plain": [
              "tensor([[ 7, 10],\n",
              "        [15, 22]])"
            ]
          },
          "metadata": {},
          "execution_count": 31
        }
      ]
    },
    {
      "cell_type": "code",
      "source": [
        "B@B"
      ],
      "metadata": {
        "colab": {
          "base_uri": "https://localhost:8080/"
        },
        "id": "0Fbe6kGJJHDv",
        "outputId": "082ad8ff-51e7-4d7e-d4e9-85a71362443c"
      },
      "execution_count": 32,
      "outputs": [
        {
          "output_type": "execute_result",
          "data": {
            "text/plain": [
              "tensor([[ 7, 10],\n",
              "        [15, 22]])"
            ]
          },
          "metadata": {},
          "execution_count": 32
        }
      ]
    },
    {
      "cell_type": "code",
      "source": [
        "# matrix မြှောက်ရင် (n*m)x(m*n) ပုံစံဖြစ်မှ matrix dot product ကို သုံးလို့ရပါတယ်။\n",
        "# (2x3).(3x2) matrix ကိုမြှောက်ရင် (2x2)matrix ရတယ်။"
      ],
      "metadata": {
        "id": "O56v9VspJzAK"
      },
      "execution_count": 33,
      "outputs": []
    },
    {
      "cell_type": "code",
      "source": [
        "C=torch.rand(3,4)\n",
        "D=torch.rand(4,3)\n",
        "torch.matmul(C,D)"
      ],
      "metadata": {
        "colab": {
          "base_uri": "https://localhost:8080/"
        },
        "id": "fZr9XvM9KpNO",
        "outputId": "d9e861d5-735f-4a02-c550-2cce7c194670"
      },
      "execution_count": 34,
      "outputs": [
        {
          "output_type": "execute_result",
          "data": {
            "text/plain": [
              "tensor([[0.8847, 0.4920, 1.1997],\n",
              "        [0.8683, 0.5647, 0.8985],\n",
              "        [0.9784, 0.4523, 1.3825]])"
            ]
          },
          "metadata": {},
          "execution_count": 34
        }
      ]
    },
    {
      "cell_type": "code",
      "source": [
        "# Transpose\n",
        "print(C)\n",
        "print(C.T)\n",
        "# row ကို column ပြောင်းခြင်း၊ column ကို row ပြောင်းခြင်း"
      ],
      "metadata": {
        "colab": {
          "base_uri": "https://localhost:8080/"
        },
        "id": "TL2MhGQWKyVv",
        "outputId": "4c952a11-d1ee-452f-93c1-7d9892ca5bb2"
      },
      "execution_count": 35,
      "outputs": [
        {
          "output_type": "stream",
          "name": "stdout",
          "text": [
            "tensor([[0.5647, 0.3526, 0.1398, 0.8024],\n",
            "        [0.7391, 0.0786, 0.8839, 0.3574],\n",
            "        [0.3736, 0.1056, 0.7245, 0.9747]])\n",
            "tensor([[0.5647, 0.7391, 0.3736],\n",
            "        [0.3526, 0.0786, 0.1056],\n",
            "        [0.1398, 0.8839, 0.7245],\n",
            "        [0.8024, 0.3574, 0.9747]])\n"
          ]
        }
      ]
    },
    {
      "cell_type": "code",
      "source": [
        "# min,max,mean,sum စသည်တို့ကိုရှာခြင်း\n",
        "E=torch.arange(0,1000,20,dtype=torch.float64)\n",
        "E"
      ],
      "metadata": {
        "colab": {
          "base_uri": "https://localhost:8080/"
        },
        "id": "6DMOwR_nK14R",
        "outputId": "0494b349-28fa-418b-aee7-f7177fc1f2fc"
      },
      "execution_count": 36,
      "outputs": [
        {
          "output_type": "execute_result",
          "data": {
            "text/plain": [
              "tensor([  0.,  20.,  40.,  60.,  80., 100., 120., 140., 160., 180., 200., 220.,\n",
              "        240., 260., 280., 300., 320., 340., 360., 380., 400., 420., 440., 460.,\n",
              "        480., 500., 520., 540., 560., 580., 600., 620., 640., 660., 680., 700.,\n",
              "        720., 740., 760., 780., 800., 820., 840., 860., 880., 900., 920., 940.,\n",
              "        960., 980.], dtype=torch.float64)"
            ]
          },
          "metadata": {},
          "execution_count": 36
        }
      ]
    },
    {
      "cell_type": "code",
      "source": [
        "# minimum တန်ဘိုးရှာခြင်း\n",
        "print(torch.min(E))\n",
        "print(E.min())"
      ],
      "metadata": {
        "colab": {
          "base_uri": "https://localhost:8080/"
        },
        "id": "ObaQqvUnLweI",
        "outputId": "49fed437-1ec6-4b42-d081-cd7df044d3b0"
      },
      "execution_count": 37,
      "outputs": [
        {
          "output_type": "stream",
          "name": "stdout",
          "text": [
            "tensor(0., dtype=torch.float64)\n",
            "tensor(0., dtype=torch.float64)\n"
          ]
        }
      ]
    },
    {
      "cell_type": "code",
      "source": [
        "# maximum တန်ဘိုးကိုရှာခြင်း\n",
        "print(torch.max(E))\n",
        "print(E.max())"
      ],
      "metadata": {
        "colab": {
          "base_uri": "https://localhost:8080/"
        },
        "id": "2-vKeDNQL26a",
        "outputId": "313a79ff-88d5-4efc-f795-f49f7a37083b"
      },
      "execution_count": 38,
      "outputs": [
        {
          "output_type": "stream",
          "name": "stdout",
          "text": [
            "tensor(980., dtype=torch.float64)\n",
            "tensor(980., dtype=torch.float64)\n"
          ]
        }
      ]
    },
    {
      "cell_type": "code",
      "source": [
        "# average ရှာခြင်း\n",
        "print(torch.mean(E))\n",
        "print(E.mean())"
      ],
      "metadata": {
        "colab": {
          "base_uri": "https://localhost:8080/"
        },
        "id": "gQX-JkNpMD_6",
        "outputId": "6483181b-dc0a-473d-d134-f84c195b09e9"
      },
      "execution_count": 39,
      "outputs": [
        {
          "output_type": "stream",
          "name": "stdout",
          "text": [
            "tensor(490., dtype=torch.float64)\n",
            "tensor(490., dtype=torch.float64)\n"
          ]
        }
      ]
    },
    {
      "cell_type": "code",
      "source": [
        "# total အားရှာခြင်း\n",
        "print(torch.sum(E))\n",
        "print(E.sum())"
      ],
      "metadata": {
        "colab": {
          "base_uri": "https://localhost:8080/"
        },
        "id": "Z1-4wL6UMM8F",
        "outputId": "30b68516-cb53-43f5-cff6-faf0e34d18d6"
      },
      "execution_count": 40,
      "outputs": [
        {
          "output_type": "stream",
          "name": "stdout",
          "text": [
            "tensor(24500., dtype=torch.float64)\n",
            "tensor(24500., dtype=torch.float64)\n"
          ]
        }
      ]
    },
    {
      "cell_type": "code",
      "source": [
        "# finding index position of minimum and maximum\n",
        "print(E.argmin())\n",
        "print(E.argmax())"
      ],
      "metadata": {
        "colab": {
          "base_uri": "https://localhost:8080/"
        },
        "id": "YLkACcTeMf7f",
        "outputId": "3ca8d959-e226-46f4-f7c3-c5d236acdc0e"
      },
      "execution_count": 41,
      "outputs": [
        {
          "output_type": "stream",
          "name": "stdout",
          "text": [
            "tensor(0)\n",
            "tensor(49)\n"
          ]
        }
      ]
    },
    {
      "cell_type": "code",
      "source": [
        "# index ဖြင့် တန်ဘိုးအား မှန်/မမှန်စစ်ခြင်း\n",
        "E[49]"
      ],
      "metadata": {
        "colab": {
          "base_uri": "https://localhost:8080/"
        },
        "id": "pcl_sgb3Mqeh",
        "outputId": "07bf795e-52c7-474c-9c2b-46e1692da408"
      },
      "execution_count": 42,
      "outputs": [
        {
          "output_type": "execute_result",
          "data": {
            "text/plain": [
              "tensor(980., dtype=torch.float64)"
            ]
          },
          "metadata": {},
          "execution_count": 42
        }
      ]
    },
    {
      "cell_type": "code",
      "source": [
        "# (၁၆-၈-၂၀၂၂)"
      ],
      "metadata": {
        "id": "RC7ErLDkM4HD"
      },
      "execution_count": 43,
      "outputs": []
    },
    {
      "cell_type": "code",
      "source": [
        ""
      ],
      "metadata": {
        "id": "JTScnwcJMtZg"
      },
      "execution_count": 43,
      "outputs": []
    }
  ]
}