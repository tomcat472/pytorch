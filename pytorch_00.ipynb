{
  "nbformat": 4,
  "nbformat_minor": 0,
  "metadata": {
    "colab": {
      "name": "pytorch_00.ipynb",
      "provenance": [],
      "authorship_tag": "ABX9TyMGXtCUh84ob0aJLM6dnyHe",
      "include_colab_link": true
    },
    "kernelspec": {
      "name": "python3",
      "display_name": "Python 3"
    },
    "language_info": {
      "name": "python"
    },
    "accelerator": "GPU",
    "gpuClass": "standard"
  },
  "cells": [
    {
      "cell_type": "markdown",
      "metadata": {
        "id": "view-in-github",
        "colab_type": "text"
      },
      "source": [
        "<a href=\"https://colab.research.google.com/github/tomcat472/pytorch/blob/main/pytorch_00.ipynb\" target=\"_parent\"><img src=\"https://colab.research.google.com/assets/colab-badge.svg\" alt=\"Open In Colab\"/></a>"
      ]
    },
    {
      "cell_type": "code",
      "execution_count": 1,
      "metadata": {
        "id": "VJGw9EIH36Ut"
      },
      "outputs": [],
      "source": [
        "# importing pytorch\n",
        "import torch\n",
        "# pytorch က numpy နဲ့သဘောသဘာဝချင်းဆင်တူပါတယ်။"
      ]
    },
    {
      "cell_type": "code",
      "source": [
        "# checking pytorch version\n",
        "torch.__version__"
      ],
      "metadata": {
        "colab": {
          "base_uri": "https://localhost:8080/",
          "height": 36
        },
        "id": "3ykYRRYp4ChG",
        "outputId": "1674df0a-1c03-4726-9970-e2212f17237d"
      },
      "execution_count": 2,
      "outputs": [
        {
          "output_type": "execute_result",
          "data": {
            "text/plain": [
              "'1.12.1+cu113'"
            ],
            "application/vnd.google.colaboratory.intrinsic+json": {
              "type": "string"
            }
          },
          "metadata": {},
          "execution_count": 2
        }
      ]
    },
    {
      "cell_type": "code",
      "source": [
        "# scalar\n",
        "# single number ဖြင့်ဖော်ပြတယ်။\n",
        "# zero dimension ဖြစ်တယ်။\n",
        "scalar=torch.tensor(7)\n",
        "print(scalar)"
      ],
      "metadata": {
        "colab": {
          "base_uri": "https://localhost:8080/"
        },
        "id": "PfQtmuUK4SuE",
        "outputId": "e6ec8e4c-8d56-401c-c3fd-3cfcda411a87"
      },
      "execution_count": 3,
      "outputs": [
        {
          "output_type": "stream",
          "name": "stdout",
          "text": [
            "tensor(7)\n"
          ]
        }
      ]
    },
    {
      "cell_type": "code",
      "source": [
        "# dimension စစ်ခြင်း\n",
        "scalar.ndim"
      ],
      "metadata": {
        "colab": {
          "base_uri": "https://localhost:8080/"
        },
        "id": "A6QhSTaJ4rR7",
        "outputId": "861a01c4-c3cf-4a3a-a3e5-d34e24a12238"
      },
      "execution_count": 4,
      "outputs": [
        {
          "output_type": "execute_result",
          "data": {
            "text/plain": [
              "0"
            ]
          },
          "metadata": {},
          "execution_count": 4
        }
      ]
    },
    {
      "cell_type": "code",
      "source": [
        "# pytorch site ထဲက tensor ကိုဖတ်ခြင်း\n",
        "scalar.item()"
      ],
      "metadata": {
        "colab": {
          "base_uri": "https://localhost:8080/"
        },
        "id": "mKcemkoq44h5",
        "outputId": "ddc55928-5dab-4d38-90ff-eac9c07b96c6"
      },
      "execution_count": 5,
      "outputs": [
        {
          "output_type": "execute_result",
          "data": {
            "text/plain": [
              "7"
            ]
          },
          "metadata": {},
          "execution_count": 5
        }
      ]
    },
    {
      "cell_type": "code",
      "source": [
        "# vector တခုတည်ဆောက်ခြင်း\n",
        "# vector ဆိုတာ maganitude နဲ့ direction ပါတယ်။\n",
        "# ဘယ်လို direction လဲဆိုတော့ အပူချိန်/လေတိုက်နှုန်းလို သတ်မှတ်ထားတဲ့ direction အတိုင်းသွားရင် positive\n",
        "# ဆန့်ကျင်ဘက် direction အတိုင်းသွားရင် negative ရတဲ့သဘောမျိုးကို ဆိုလိုတာဖြစ်တယ်။\n",
        "vector=torch.tensor([2,3])\n",
        "vector"
      ],
      "metadata": {
        "colab": {
          "base_uri": "https://localhost:8080/"
        },
        "id": "0Ia8qTcO5HlS",
        "outputId": "4af29bad-4751-4811-c86c-961a64ee42f1"
      },
      "execution_count": 6,
      "outputs": [
        {
          "output_type": "execute_result",
          "data": {
            "text/plain": [
              "tensor([2, 3])"
            ]
          },
          "metadata": {},
          "execution_count": 6
        }
      ]
    },
    {
      "cell_type": "code",
      "source": [
        "vector.ndim"
      ],
      "metadata": {
        "colab": {
          "base_uri": "https://localhost:8080/"
        },
        "id": "FMkW3egg6bsm",
        "outputId": "c7a5c3a9-a34d-4c09-c8d8-6a22a17c961a"
      },
      "execution_count": 7,
      "outputs": [
        {
          "output_type": "execute_result",
          "data": {
            "text/plain": [
              "1"
            ]
          },
          "metadata": {},
          "execution_count": 7
        }
      ]
    },
    {
      "cell_type": "code",
      "source": [
        "# matrix တည်ဆောက်ခြင်း\n",
        "# matrix ဆိုတာ ၁၀ တန်းသင်္ချာထဲကအတိုင်းပဲ row,col အတွဲဖြစ်တယ်။ tabular ပုံစံကို ပြေးမြင်ရင်ရတယ်။\n",
        "matrix=torch.tensor([[1,2],[3,4]])\n",
        "matrix"
      ],
      "metadata": {
        "colab": {
          "base_uri": "https://localhost:8080/"
        },
        "id": "22TTL_ac6eEC",
        "outputId": "aed0d951-8559-499c-fbaa-6109852b4c01"
      },
      "execution_count": 8,
      "outputs": [
        {
          "output_type": "execute_result",
          "data": {
            "text/plain": [
              "tensor([[1, 2],\n",
              "        [3, 4]])"
            ]
          },
          "metadata": {},
          "execution_count": 8
        }
      ]
    },
    {
      "cell_type": "code",
      "source": [
        "matrix.ndim"
      ],
      "metadata": {
        "colab": {
          "base_uri": "https://localhost:8080/"
        },
        "id": "mBfucKl37swC",
        "outputId": "d5952a99-f858-4479-a7c1-13de57fece53"
      },
      "execution_count": 9,
      "outputs": [
        {
          "output_type": "execute_result",
          "data": {
            "text/plain": [
              "2"
            ]
          },
          "metadata": {},
          "execution_count": 9
        }
      ]
    },
    {
      "cell_type": "code",
      "source": [
        "matrix.shape"
      ],
      "metadata": {
        "colab": {
          "base_uri": "https://localhost:8080/"
        },
        "id": "BHfScbub7t_b",
        "outputId": "e13db700-a128-4b30-f336-a7943f89e5d1"
      },
      "execution_count": 10,
      "outputs": [
        {
          "output_type": "execute_result",
          "data": {
            "text/plain": [
              "torch.Size([2, 2])"
            ]
          },
          "metadata": {},
          "execution_count": 10
        }
      ]
    },
    {
      "cell_type": "code",
      "source": [
        "# tensor တခုတည်ဆောက်ခြင်း\n",
        "# tensor ဆိုတာ nth dimensional matrix ဖြစ်ပါတယ်။\n",
        "# 3 dimension ကနေစပြီး tensor လို့ခေါ်ပါတယ်။\n",
        "tensor=torch.tensor([[[1,2,3],[4,5,6]]])\n",
        "tensor"
      ],
      "metadata": {
        "colab": {
          "base_uri": "https://localhost:8080/"
        },
        "id": "I4yyjNd17wb-",
        "outputId": "31023fb0-0c11-4bbc-9798-5a283d64515b"
      },
      "execution_count": 11,
      "outputs": [
        {
          "output_type": "execute_result",
          "data": {
            "text/plain": [
              "tensor([[[1, 2, 3],\n",
              "         [4, 5, 6]]])"
            ]
          },
          "metadata": {},
          "execution_count": 11
        }
      ]
    },
    {
      "cell_type": "code",
      "source": [
        "print(tensor.ndim)\n",
        "print(tensor.shape)"
      ],
      "metadata": {
        "colab": {
          "base_uri": "https://localhost:8080/"
        },
        "id": "6hU0eSP08HoY",
        "outputId": "1e4d9211-7e67-42a9-d41c-d18d4967e9cb"
      },
      "execution_count": 12,
      "outputs": [
        {
          "output_type": "stream",
          "name": "stdout",
          "text": [
            "3\n",
            "torch.Size([1, 2, 3])\n"
          ]
        }
      ]
    },
    {
      "cell_type": "code",
      "source": [
        "# Slicing and indexing"
      ],
      "metadata": {
        "id": "N_heVzPX95yf"
      },
      "execution_count": 13,
      "outputs": []
    },
    {
      "cell_type": "code",
      "source": [
        "matrix"
      ],
      "metadata": {
        "colab": {
          "base_uri": "https://localhost:8080/"
        },
        "id": "EM6I8mkY-GlQ",
        "outputId": "126e4237-e52a-465f-ad6e-247e07871f70"
      },
      "execution_count": 14,
      "outputs": [
        {
          "output_type": "execute_result",
          "data": {
            "text/plain": [
              "tensor([[1, 2],\n",
              "        [3, 4]])"
            ]
          },
          "metadata": {},
          "execution_count": 14
        }
      ]
    },
    {
      "cell_type": "code",
      "source": [
        "matrix[0]"
      ],
      "metadata": {
        "colab": {
          "base_uri": "https://localhost:8080/"
        },
        "id": "dslN6iZg-H7c",
        "outputId": "24415cdb-7ec6-471e-b05e-b31442559801"
      },
      "execution_count": 15,
      "outputs": [
        {
          "output_type": "execute_result",
          "data": {
            "text/plain": [
              "tensor([1, 2])"
            ]
          },
          "metadata": {},
          "execution_count": 15
        }
      ]
    },
    {
      "cell_type": "code",
      "source": [
        "matrix[0,1]"
      ],
      "metadata": {
        "colab": {
          "base_uri": "https://localhost:8080/"
        },
        "id": "lwjnPF7J-Kza",
        "outputId": "9b87b690-0360-48f8-e2ed-67d56136e821"
      },
      "execution_count": 16,
      "outputs": [
        {
          "output_type": "execute_result",
          "data": {
            "text/plain": [
              "tensor(2)"
            ]
          },
          "metadata": {},
          "execution_count": 16
        }
      ]
    }
  ]
}